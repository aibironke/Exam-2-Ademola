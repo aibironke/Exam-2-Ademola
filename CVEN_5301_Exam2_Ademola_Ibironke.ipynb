{
 "cells": [
  {
   "cell_type": "markdown",
   "id": "30cb8a11",
   "metadata": {},
   "source": [
    " <h1> <font color='blue'> CVEN 5301: ST: Computational Skills in Engineering using Python </font> </h1>"
   ]
  },
  {
   "cell_type": "markdown",
   "id": "d4b3ff32",
   "metadata": {},
   "source": [
    "<h2> <font color='red'> Exam 2: Ademola Ibironke </font> </h2>"
   ]
  },
  {
   "cell_type": "markdown",
   "id": "d4af1b96",
   "metadata": {},
   "source": [
    "### Problem 1:"
   ]
  },
  {
   "cell_type": "markdown",
   "id": "b55c36c7",
   "metadata": {},
   "source": [
    "### Given a system of truss with 2 point loads 400N and 200N,\n",
    "\n",
    "### deriving  for resolution of forces  from section B and assuming fixed support at the center joint,\n",
    "0.866*F1 - 0.5*F3 = 0\n",
    "0.5F1 + 0.866*F3 =-200\n",
    "0.866*F1 -F2 - H2 = 0\n",
    "0.5*F1 -V2 = 0\n",
    "F2 + 0.5*F3 = 0\n",
    "0.866*F3 -V3 =0"
   ]
  },
  {
   "cell_type": "code",
   "execution_count": 23,
   "id": "f63cf492",
   "metadata": {},
   "outputs": [],
   "source": [
    "# the system of equations can be written in matrrix form as Ax = b where,\n",
    "a = np.array([[0.866,0,-0.5,0,0,0],[0.5,0,0.866,0,0,0],[0.866,-1,0,-1,0,0],[-0.5,0,0,0,-1,0],[0,1,0.5,0,0,0],[0,0,-0.866,0,0,-1]])"
   ]
  },
  {
   "cell_type": "code",
   "execution_count": 29,
   "id": "2964c8f0",
   "metadata": {},
   "outputs": [
    {
     "data": {
      "text/plain": [
       "array([0.866, 0.   , 0.   , 0.   , 0.   , 1.   ])"
      ]
     },
     "execution_count": 29,
     "metadata": {},
     "output_type": "execute_result"
    }
   ],
   "source": [
    "#Using Gauss-Seidel Method\n",
    "\"\"\"For Guass-Siedel Iterative method to work, a convergence of the solution may be needed. \n",
    "Convergence occurs when the absolute value of the diagonal element > sum of absolute values of the non-diagonal elements,\n",
    "in each row of the coefft matrix. This means the coefft matrix 'a' is diagonally dominant,\n",
    " although the matrices can still be solved with non-dominant diagonal coefft matrix.\"\"\"\n",
    "\n",
    " # Find diagonal coefficients\n",
    "diag = np.diag(np.abs(a)) #1D array of the values of the diagonal coeffts\n",
    "diag"
   ]
  },
  {
   "cell_type": "code",
   "execution_count": 30,
   "id": "b9431a3e",
   "metadata": {},
   "outputs": [
    {
     "name": "stdout",
     "output_type": "stream",
     "text": [
      "NOT diagonally dominant\n"
     ]
    }
   ],
   "source": [
    "# Find row sum without diagonal\n",
    "off_diag = np.sum(np.abs(a), axis=1) - diag #1D array of the values of the sum of non-diagonal coeffts in each row minus the diagonal element\n",
    "off_diag\n",
    "\n",
    "#To test whether all elements evaluates true\n",
    "if np.all(diag > off_diag): #if abs value of all diag elements is greater than sum of all non-diagonals, in each row\n",
    "    print('matrix is diagonally dominant')\n",
    "else:\n",
    "    print('NOT diagonally dominant')\n",
    " "
   ]
  },
  {
   "cell_type": "code",
   "execution_count": 27,
   "id": "dadcbc84",
   "metadata": {},
   "outputs": [
    {
     "name": "stdout",
     "output_type": "stream",
     "text": [
      "Iteration results\n",
      "   forces,   x1,   x2,   x3,  x4,  x5, x6\n",
      "1, 0.00, 0.00, -230.95, -0.00,0.00, -200.00\n",
      "2, -133.34, 115.47, -153.96, 0.00,-66.67, -133.33\n",
      "3, -88.89, 76.98, -179.62, 0.00,-44.45, -155.55\n",
      "4, -103.71, 89.81, -171.07, 0.00,-51.85, -148.15\n",
      "5, -98.77, 85.53, -173.92, 0.00,-49.38, -150.62\n",
      "6, -100.42, 86.96, -172.97, 0.00,-50.21, -149.79\n",
      "7, -99.87, 86.48, -173.29, 0.00,-49.93, -150.07\n",
      "8, -100.05, 86.64, -173.18, 0.00,-50.03, -149.97\n",
      "9, -99.99, 86.59, -173.22, 0.00,-49.99, -150.01\n",
      "10, -100.01, 86.61, -173.20, 0.00,-50.00, -150.00\n",
      "11, -100.00, 86.60, -173.21, 0.00,-50.00, -150.00\n",
      "12, -100.00, 86.60, -173.21, 0.00,-50.00, -150.00\n",
      "13, -100.00, 86.60, -173.21, 0.00,-50.00, -150.00\n",
      "14, -100.00, 86.60, -173.21, 0.00,-50.00, -150.00\n",
      "15, -100.00, 86.60, -173.21, 0.00,-50.00, -150.00\n",
      "16, -100.00, 86.60, -173.21, 0.00,-50.00, -150.00\n",
      "17, -100.00, 86.60, -173.21, 0.00,-50.00, -150.00\n",
      "18, -100.00, 86.60, -173.21, 0.00,-50.00, -150.00\n",
      "19, -100.00, 86.60, -173.21, 0.00,-50.00, -150.00\n",
      "20, -100.00, 86.60, -173.21, 0.00,-50.00, -150.00\n",
      "21, -100.00, 86.60, -173.21, 0.00,-50.00, -150.00\n",
      "22, -100.00, 86.60, -173.21, 0.00,-50.00, -150.00\n",
      "23, -100.00, 86.60, -173.21, 0.00,-50.00, -150.00\n",
      "24, -100.00, 86.60, -173.21, 0.00,-50.00, -150.00\n",
      "25, -100.00, 86.60, -173.21, 0.00,-50.00, -150.00\n",
      "26, -100.00, 86.60, -173.21, 0.00,-50.00, -150.00\n",
      "27, -100.00, 86.60, -173.21, 0.00,-50.00, -150.00\n",
      "28, -100.00, 86.60, -173.21, 0.00,-50.00, -150.00\n",
      "29, -100.00, 86.60, -173.21, 0.00,-50.00, -150.00\n",
      "30, -100.00, 86.60, -173.21, 0.00,-50.00, -150.00\n",
      "31, -100.00, 86.60, -173.21, 0.00,-50.00, -150.00\n",
      "32, -100.00, 86.60, -173.21, 0.00,-50.00, -150.00\n",
      "33, -100.00, 86.60, -173.21, 0.00,-50.00, -150.00\n",
      "34, -100.00, 86.60, -173.21, 0.00,-50.00, -150.00\n",
      "35, -100.00, 86.60, -173.21, 0.00,-50.00, -150.00\n",
      "36, -100.00, 86.60, -173.21, 0.00,-50.00, -150.00\n",
      "37, -100.00, 86.60, -173.21, 0.00,-50.00, -150.00\n",
      "38, -100.00, 86.60, -173.21, 0.00,-50.00, -150.00\n",
      "39, -100.00, 86.60, -173.21, 0.00,-50.00, -150.00\n",
      "40, -100.00, 86.60, -173.21, 0.00,-50.00, -150.00\n",
      "41, -100.00, 86.60, -173.21, 0.00,-50.00, -150.00\n",
      "42, -100.00, 86.60, -173.21, 0.00,-50.00, -150.00\n",
      "43, -100.00, 86.60, -173.21, 0.00,-50.00, -150.00\n",
      "44, -100.00, 86.60, -173.21, 0.00,-50.00, -150.00\n",
      "45, -100.00, 86.60, -173.21, 0.00,-50.00, -150.00\n",
      "46, -100.00, 86.60, -173.21, 0.00,-50.00, -150.00\n",
      "47, -100.00, 86.60, -173.21, 0.00,-50.00, -150.00\n",
      "48, -100.00, 86.60, -173.21, 0.00,-50.00, -150.00\n",
      "49, -100.00, 86.60, -173.21, 0.00,-50.00, -150.00\n",
      "50, -100.00, 86.60, -173.21, 0.00,-50.00, -150.00\n",
      "51, -100.00, 86.60, -173.21, 0.00,-50.00, -150.00\n",
      "52, -100.00, 86.60, -173.21, 0.00,-50.00, -150.00\n",
      "53, -100.00, 86.60, -173.21, 0.00,-50.00, -150.00\n",
      "54, -100.00, 86.60, -173.21, 0.00,-50.00, -150.00\n",
      "55, -100.00, 86.60, -173.21, 0.00,-50.00, -150.00\n",
      "56, -100.00, 86.60, -173.21, 0.00,-50.00, -150.00\n",
      "57, -100.00, 86.60, -173.21, 0.00,-50.00, -150.00\n",
      "58, -100.00, 86.60, -173.21, 0.00,-50.00, -150.00\n",
      "59, -100.00, 86.60, -173.21, 0.00,-50.00, -150.00\n",
      "60, -100.00, 86.60, -173.21, 0.00,-50.00, -150.00\n",
      "61, -100.00, 86.60, -173.21, 0.00,-50.00, -150.00\n",
      "62, -100.00, 86.60, -173.21, 0.00,-50.00, -150.00\n",
      "63, -100.00, 86.60, -173.21, 0.00,-50.00, -150.00\n",
      "64, -100.00, 86.60, -173.21, 0.00,-50.00, -150.00\n",
      "65, -100.00, 86.60, -173.21, 0.00,-50.00, -150.00\n",
      "66, -100.00, 86.60, -173.21, 0.00,-50.00, -150.00\n",
      "67, -100.00, 86.60, -173.21, 0.00,-50.00, -150.00\n",
      "68, -100.00, 86.60, -173.21, 0.00,-50.00, -150.00\n",
      "69, -100.00, 86.60, -173.21, 0.00,-50.00, -150.00\n",
      "70, -100.00, 86.60, -173.21, 0.00,-50.00, -150.00\n",
      "71, -100.00, 86.60, -173.21, 0.00,-50.00, -150.00\n",
      "72, -100.00, 86.60, -173.21, 0.00,-50.00, -150.00\n",
      "73, -100.00, 86.60, -173.21, 0.00,-50.00, -150.00\n",
      "74, -100.00, 86.60, -173.21, 0.00,-50.00, -150.00\n",
      "75, -100.00, 86.60, -173.21, 0.00,-50.00, -150.00\n",
      "76, -100.00, 86.60, -173.21, 0.00,-50.00, -150.00\n",
      "77, -100.00, 86.60, -173.21, 0.00,-50.00, -150.00\n",
      "78, -100.00, 86.60, -173.21, 0.00,-50.00, -150.00\n",
      "79, -100.00, 86.60, -173.21, 0.00,-50.00, -150.00\n",
      "80, -100.00, 86.60, -173.21, 0.00,-50.00, -150.00\n",
      "81, -100.00, 86.60, -173.21, 0.00,-50.00, -150.00\n",
      "82, -100.00, 86.60, -173.21, 0.00,-50.00, -150.00\n",
      "83, -100.00, 86.60, -173.21, 0.00,-50.00, -150.00\n",
      "84, -100.00, 86.60, -173.21, 0.00,-50.00, -150.00\n",
      "85, -100.00, 86.60, -173.21, 0.00,-50.00, -150.00\n",
      "86, -100.00, 86.60, -173.21, 0.00,-50.00, -150.00\n",
      "87, -100.00, 86.60, -173.21, 0.00,-50.00, -150.00\n",
      "88, -100.00, 86.60, -173.21, 0.00,-50.00, -150.00\n",
      "89, -100.00, 86.60, -173.21, 0.00,-50.00, -150.00\n",
      "90, -100.00, 86.60, -173.21, 0.00,-50.00, -150.00\n",
      "91, -100.00, 86.60, -173.21, 0.00,-50.00, -150.00\n",
      "92, -100.00, 86.60, -173.21, 0.00,-50.00, -150.00\n",
      "93, -100.00, 86.60, -173.21, 0.00,-50.00, -150.00\n",
      "94, -100.00, 86.60, -173.21, 0.00,-50.00, -150.00\n",
      "95, -100.00, 86.60, -173.21, 0.00,-50.00, -150.00\n",
      "96, -100.00, 86.60, -173.21, 0.00,-50.00, -150.00\n",
      "97, -100.00, 86.60, -173.21, 0.00,-50.00, -150.00\n",
      "98, -100.00, 86.60, -173.21, 0.00,-50.00, -150.00\n",
      "99, -100.00, 86.60, -173.21, 0.00,-50.00, -150.00\n",
      "Not converge, increase the # of iterations\n"
     ]
    },
    {
     "name": "stderr",
     "output_type": "stream",
     "text": [
      "C:\\Users\\Ademola Ibironke\\AppData\\Local\\Temp\\ipykernel_28920\\1138862784.py:30: RuntimeWarning: invalid value encountered in divide\n",
      "  dy= np.abs((f-fi)/f)*100 #relative absolute approx error for each conc\n"
     ]
    }
   ],
   "source": [
    "#Initialize reaction forces\n",
    "x1 = 0\n",
    "x2 = 0\n",
    "x3 = 0\n",
    "x4 = 0\n",
    "x5 = 0\n",
    "x6 = 0\n",
    "error = 0.0001\n",
    "converged = False   \n",
    "\n",
    "fi = np.array([x1, x2, x3, x4, x5, x6]) #1D array of assumed forces\n",
    "fi\n",
    "type(fi)\n",
    "\n",
    "print('Iteration results')\n",
    "print('   forces,   x1,   x2,   x3,  x4,  x5, x6')\n",
    "for forces in range(1, 100): #range of iterations \n",
    "#Isolate one unknown in each of the equations\n",
    "    x1 = 0.5* x3/0.866 \n",
    "    x2 = -x4 -0.866*x1\n",
    "    x3 = (-200 -0.5*x1)/0.866\n",
    "    x4 = -x2- 0.866*x1\n",
    "    x5 = 0.5*x1\n",
    "    x6 = 0.866*x3\n",
    "    f = np.array([x1, x2, x3, x4, x5, x6]) #1D array of new forces\n",
    "    type(f)\n",
    "    # check if it is smaller than threshold\n",
    "    dx = np.sqrt(np.dot(f-fi, f-fi)) #square root of the dot product of difference b/w c &cj\n",
    "    dx\n",
    "    dy= np.abs((f-fi)/f)*100 #relative absolute approx error for each conc\n",
    "    dy \n",
    "    print(\"%d, %.2f, %.2f, %.2f, %.2f,%.2f, %.2f\"% (forces, x1, x2, x3, x4, x5, x6)) #formating float to 2 decimal places\n",
    "    if dy.all() < error:\n",
    "        converged = True\n",
    "        print('Converged!')\n",
    "        break\n",
    "\n",
    "    # assign the latest f value to the old value\n",
    "    fi = f\n",
    "    \n",
    "if not converged:\n",
    "    print('Not converge, increase the # of iterations')"
   ]
  },
  {
   "cell_type": "markdown",
   "id": "f0e408e2",
   "metadata": {},
   "source": [
    "### Problem 2:"
   ]
  },
  {
   "cell_type": "markdown",
   "id": "c7210d78",
   "metadata": {},
   "source": [
    "Gringorten plotting position is given by the following equation:\n",
    "$$\n",
    "F(x) = \\frac{r - 0.44}{n + 0.12}\n",
    "$$\n",
    "\n",
    "To calculate the empirical cummulative distribution curve,"
   ]
  },
  {
   "cell_type": "code",
   "execution_count": 6,
   "id": "50268988",
   "metadata": {},
   "outputs": [],
   "source": [
    "import pandas as pd\n",
    "import os\n",
    "\n",
    "#Set Working directory\n",
    "path = 'D:\\CVEN 5301 Python'\n",
    "os.chdir(path)"
   ]
  },
  {
   "cell_type": "code",
   "execution_count": 9,
   "id": "3cf18a76",
   "metadata": {},
   "outputs": [],
   "source": [
    "# define function for Gringoten Plotting Position\n",
    "def funGring(r,n):\n",
    "    funGring = r-0.44/n+0.12\n",
    "    return(funGring)"
   ]
  },
  {
   "cell_type": "code",
   "execution_count": 11,
   "id": "758176f9",
   "metadata": {},
   "outputs": [
    {
     "data": {
      "text/html": [
       "<div>\n",
       "<style scoped>\n",
       "    .dataframe tbody tr th:only-of-type {\n",
       "        vertical-align: middle;\n",
       "    }\n",
       "\n",
       "    .dataframe tbody tr th {\n",
       "        vertical-align: top;\n",
       "    }\n",
       "\n",
       "    .dataframe thead th {\n",
       "        text-align: right;\n",
       "    }\n",
       "</style>\n",
       "<table border=\"1\" class=\"dataframe\">\n",
       "  <thead>\n",
       "    <tr style=\"text-align: right;\">\n",
       "      <th></th>\n",
       "      <th>agency_cd</th>\n",
       "      <th>site_no</th>\n",
       "      <th>parameter_cd</th>\n",
       "      <th>ts_id</th>\n",
       "      <th>year_nu</th>\n",
       "      <th>mean_va</th>\n",
       "    </tr>\n",
       "  </thead>\n",
       "  <tbody>\n",
       "    <tr>\n",
       "      <th>0</th>\n",
       "      <td>USGS</td>\n",
       "      <td>8039100</td>\n",
       "      <td>60</td>\n",
       "      <td>132821</td>\n",
       "      <td>1960</td>\n",
       "      <td>72.0</td>\n",
       "    </tr>\n",
       "    <tr>\n",
       "      <th>1</th>\n",
       "      <td>USGS</td>\n",
       "      <td>8039100</td>\n",
       "      <td>60</td>\n",
       "      <td>132821</td>\n",
       "      <td>1961</td>\n",
       "      <td>156.0</td>\n",
       "    </tr>\n",
       "    <tr>\n",
       "      <th>2</th>\n",
       "      <td>USGS</td>\n",
       "      <td>8039100</td>\n",
       "      <td>60</td>\n",
       "      <td>132821</td>\n",
       "      <td>1962</td>\n",
       "      <td>68.8</td>\n",
       "    </tr>\n",
       "    <tr>\n",
       "      <th>3</th>\n",
       "      <td>USGS</td>\n",
       "      <td>8039100</td>\n",
       "      <td>60</td>\n",
       "      <td>132821</td>\n",
       "      <td>1963</td>\n",
       "      <td>31.9</td>\n",
       "    </tr>\n",
       "    <tr>\n",
       "      <th>4</th>\n",
       "      <td>USGS</td>\n",
       "      <td>8039100</td>\n",
       "      <td>60</td>\n",
       "      <td>132821</td>\n",
       "      <td>1964</td>\n",
       "      <td>54.0</td>\n",
       "    </tr>\n",
       "  </tbody>\n",
       "</table>\n",
       "</div>"
      ],
      "text/plain": [
       "  agency_cd  site_no  parameter_cd   ts_id  year_nu  mean_va\n",
       "0      USGS  8039100            60  132821     1960     72.0\n",
       "1      USGS  8039100            60  132821     1961    156.0\n",
       "2      USGS  8039100            60  132821     1962     68.8\n",
       "3      USGS  8039100            60  132821     1963     31.9\n",
       "4      USGS  8039100            60  132821     1964     54.0"
      ]
     },
     "execution_count": 11,
     "metadata": {},
     "output_type": "execute_result"
    }
   ],
   "source": [
    "# to calculate the CDF\n",
    "import matplotlib.pyplot as plt\n",
    "import numpy as np\n",
    "\n",
    "#Read data\n",
    "fname = 'Ayish.csv' #Name of the csv file\n",
    "b = pd.read_csv(fname) # to make \"read_csv\" read the file \"fname\" \n",
    "type(b) #To confirm data type for object 'b'\n",
    "b.head(5) # first five rows of Ayish Bayou peak streamflow 1960 to 1985"
   ]
  },
  {
   "cell_type": "markdown",
   "id": "ebc2a80e",
   "metadata": {},
   "source": [
    "### Data source: URL: https://waterdata.usgs.gov/nwis/annual?"
   ]
  },
  {
   "cell_type": "code",
   "execution_count": 13,
   "id": "55d4c9b7",
   "metadata": {},
   "outputs": [
    {
     "data": {
      "text/plain": [
       "0      72.00\n",
       "1     156.00\n",
       "2      68.80\n",
       "3      31.90\n",
       "4      54.00\n",
       "5      24.80\n",
       "6      76.30\n",
       "7      17.40\n",
       "8     113.30\n",
       "9     141.80\n",
       "10     27.90\n",
       "11      6.36\n",
       "12     39.80\n",
       "13    148.40\n",
       "14    165.00\n",
       "15    171.70\n",
       "16     49.00\n",
       "17     42.40\n",
       "18     74.40\n",
       "19    190.60\n",
       "20     86.10\n",
       "21     23.90\n",
       "22     53.20\n",
       "23    171.30\n",
       "24    106.30\n",
       "25     64.00\n",
       "Name: mean_va, dtype: float64"
      ]
     },
     "execution_count": 13,
     "metadata": {},
     "output_type": "execute_result"
    }
   ],
   "source": [
    "#Extract the 'mean_va' column\n",
    "p = b.mean_va\n",
    "p"
   ]
  },
  {
   "cell_type": "code",
   "execution_count": 14,
   "id": "bb8492f6",
   "metadata": {},
   "outputs": [
    {
     "data": {
      "text/plain": [
       "array([ 72.  , 156.  ,  68.8 ,  31.9 ,  54.  ,  24.8 ,  76.3 ,  17.4 ,\n",
       "       113.3 , 141.8 ,  27.9 ,   6.36,  39.8 , 148.4 , 165.  , 171.7 ,\n",
       "        49.  ,  42.4 ,  74.4 , 190.6 ,  86.1 ,  23.9 ,  53.2 , 171.3 ,\n",
       "       106.3 ,  64.  ])"
      ]
     },
     "execution_count": 14,
     "metadata": {},
     "output_type": "execute_result"
    }
   ],
   "source": [
    "#convert to numpy array\n",
    "pp =np.array(p)\n",
    "pp"
   ]
  },
  {
   "cell_type": "code",
   "execution_count": 16,
   "id": "cfd8a7d2",
   "metadata": {},
   "outputs": [
    {
     "data": {
      "text/plain": [
       "array([0.  , 0.04, 0.08, 0.12, 0.16, 0.2 , 0.24, 0.28, 0.32, 0.36, 0.4 ,\n",
       "       0.44, 0.48, 0.52, 0.56, 0.6 , 0.64, 0.68, 0.72, 0.76, 0.8 , 0.84,\n",
       "       0.88, 0.92, 0.96, 1.  ])"
      ]
     },
     "execution_count": 16,
     "metadata": {},
     "output_type": "execute_result"
    }
   ],
   "source": [
    "# calculate the proportional values of samples\n",
    "q = 1. * np.arange(len(pp)) / (len(pp) - 1)\n",
    "q"
   ]
  },
  {
   "cell_type": "code",
   "execution_count": 17,
   "id": "a9e1630c",
   "metadata": {},
   "outputs": [
    {
     "data": {
      "text/plain": [
       "0     1960\n",
       "1     1961\n",
       "2     1962\n",
       "3     1963\n",
       "4     1964\n",
       "5     1965\n",
       "6     1966\n",
       "7     1967\n",
       "8     1968\n",
       "9     1969\n",
       "10    1970\n",
       "11    1971\n",
       "12    1972\n",
       "13    1973\n",
       "14    1974\n",
       "15    1975\n",
       "16    1976\n",
       "17    1977\n",
       "18    1978\n",
       "19    1979\n",
       "20    1980\n",
       "21    1981\n",
       "22    1982\n",
       "23    1983\n",
       "24    1984\n",
       "25    1985\n",
       "Name: year_nu, dtype: int64"
      ]
     },
     "execution_count": 17,
     "metadata": {},
     "output_type": "execute_result"
    }
   ],
   "source": [
    "r = b. year_nu\n",
    "r"
   ]
  },
  {
   "cell_type": "code",
   "execution_count": 18,
   "id": "ec53c9d5",
   "metadata": {},
   "outputs": [
    {
     "data": {
      "text/plain": [
       "array([1960, 1961, 1962, 1963, 1964, 1965, 1966, 1967, 1968, 1969, 1970,\n",
       "       1971, 1972, 1973, 1974, 1975, 1976, 1977, 1978, 1979, 1980, 1981,\n",
       "       1982, 1983, 1984, 1985], dtype=int64)"
      ]
     },
     "execution_count": 18,
     "metadata": {},
     "output_type": "execute_result"
    }
   ],
   "source": [
    "#convert to numpy array\n",
    "rr =np.array(r)\n",
    "rr"
   ]
  },
  {
   "cell_type": "code",
   "execution_count": 19,
   "id": "a6f5987d",
   "metadata": {},
   "outputs": [
    {
     "data": {
      "image/png": "[encoded data removed]",
      "text/plain": [
       "<Figure size 640x480 with 1 Axes>"
      ]
     },
     "metadata": {},
     "output_type": "display_data"
    }
   ],
   "source": [
    "# plot the sorted data:\n",
    "plt.plot(rr,q,'ro') #red circles\n",
    "plt.xlabel('Year') #xlabel\n",
    "plt.ylabel('Max Flow')#ylabel\n",
    "plt.grid()# for aesthetics\n",
    "plt.title('Ayish Bayou CDF 1960 - 1985')\n",
    "plt.legend(['Year'],loc='upper left')#legend upper left\n",
    "plt.show() #show the plot"
   ]
  },
  {
   "cell_type": "code",
   "execution_count": null,
   "id": "acd61808",
   "metadata": {},
   "outputs": [],
   "source": []
  }
 ],
 "metadata": {
  "kernelspec": {
   "display_name": "Python 3 (ipykernel)",
   "language": "python",
   "name": "python3"
  },
  "language_info": {
   "codemirror_mode": {
    "name": "ipython",
    "version": 3
   },
   "file_extension": ".py",
   "mimetype": "text/x-python",
   "name": "python",
   "nbconvert_exporter": "python",
   "pygments_lexer": "ipython3",
   "version": "3.9.12"
  }
 },
 "nbformat": 4,
 "nbformat_minor": 5
}
